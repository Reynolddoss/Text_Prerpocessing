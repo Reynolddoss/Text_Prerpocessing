{
 "cells": [
  {
   "cell_type": "code",
   "execution_count": 1,
   "metadata": {
    "collapsed": true
   },
   "outputs": [],
   "source": [
    "import nltk\n",
    "import regex as re\n",
    "from nltk.tokenize import word_tokenize"
   ]
  },
  {
   "cell_type": "code",
   "execution_count": 2,
   "metadata": {
    "collapsed": true
   },
   "outputs": [],
   "source": [
    "with open(\"/home/reynold/github/Text_Prerpocessing/Dataset/README.txt\") as file:\n",
    "     doc = file.read()"
   ]
  },
  {
   "cell_type": "code",
   "execution_count": 3,
   "metadata": {
    "collapsed": true
   },
   "outputs": [],
   "source": [
    "# removal of Punctuation\n",
    "temp_1 = re.sub('[!@#$%\\n^\"*)\\\\(-=]',\" \",doc)"
   ]
  },
  {
   "cell_type": "code",
   "execution_count": 4,
   "metadata": {},
   "outputs": [
    {
     "data": {
      "text/plain": [
       "\"                                                                                                                                                                                                                                                    README                                                                                                                                                                                                                WEKA                                     Dec                                                                                               Java Programs for Machine Learning              Copyright  C             University of Waikato                web  http   www cs waikato ac nz ~ml weka                                                                                                                                                             Contents                Using one of the graphical user interfaces in Weka     Weka packages and the package manager     The Weka data format  ARFF      Using Weka from the command line       Classifiers      Association rules      Filters     Database access     The Experiment package     Weka manual     Source code     Credits      Submission of code and bug reports      Copyright                                                                              Using one of the graphical user interfaces in Weka                                                          This assumes that the Weka archive that you have downloaded has been extracted into a directory containing this README and that you haven't used an automatic installer  e g  the one provided for Windows    Weka     requires Java     or higher  Depending on your platform you may be able to just double click on the weka jar icon to run the graphical user interfaces for Weka  Otherwise  from a command line  assuming you are in the directory containing weka jar   type  java  jar weka jar  or if you are using Windows use  javaw  jar weka jar  Note  Using   jar  overrides your CLASSPATH variable  If you need to use classes specified in the CLASSPATH  use the following command instead   java  classpath  CLASSPATH weka jar weka gui GUIChooser  or if you are using Windows use  javaw  classpath   CLASSPATH  weka jar  weka gui GUIChooser  This will start a graphical user interface  weka gui GUIChooser  from which you can select various interfaces  like the SimpleCLI interface  or the more sophisticated Explorer  Experimenter  and Knowledge Flow  interfaces  SimpleCLI just acts like a simple command shell  The  Explorer is currently the main interface for data analysis using  Weka  The Experimenter can be used to compare the performance of  different learning algorithms across various datasets  The Knowledge  Flow provides a component based alternative to the Explorer interface   Example datasets that can be used with Weka are in the sub directory called  data   which should be located in the same directory as this README file   The Weka user interfaces provide extensive built in help facilities  tool tips  etc    Documentation for the Explorer can be found in ExplorerGuide pdf  also in the same directory as this README    You can also start the GUI  Main  class from within weka jar   java  classpath weka jar  CLASSPATH weka gui Main or if you are using Windows use javaw  classpath weka jar  CLASSPATH weka gui Main                                                                             Weka packages and the package manager                                             From Weka       many Weka algorithms and tools have been extracted from the main Weka distribution and encapsulated in separate downloadable packages  These can be obtained from the Weka project on Sourceforge and installed manually  or Weka's new built in package manager can be used to take care of installing removing packages  There is both a command line and GUI package manager that can be used to browse and install packages  The package manager takes care of resolving dependencies and checking for conflicts   The GUI package manager can be found in the  Tools  menu of the GUIChooser  Detailed information on how to use the package management system can be found in the Weka manual   WEKAINSTALL WekaManual pdf                                                                               The Weka data format  ARFF                                    Datasets for WEKA should be formatted according to the ARFF format   However  there are several converters included in WEKA that can convert other file formats to ARFF  The Weka Explorer will use these automatically if it doesn't recognize a given file as an ARFF file   Examples of ARFF files can be found in the  data  subdirectory  What follows is a short description of the file format  A more complete description is available from the Weka web page   A dataset has to start with a declaration of its name    relation name  followed by a list of all the attributes in the dataset  including  the class attribute   These declarations have the form   attribute attribute_name specification  If an attribute is nominal  specification contains a list of the  possible attribute values in curly brackets    attribute nominal_attribute {first_value  second_value  third_value}  If an attribute is numeric  specification is replaced by the keyword  numeric   Integer values are treated as real numbers in WEKA     attribute numeric_attribute numeric  In addition to these two types of attributes  there also exists a string attribute type  This attribute provides the possibility to store a comment or ID field for each of the instances in a dataset    attribute string_attribute string  After the attribute declarations  the actual data is introduced by a    data  tag  which is followed by a list of all the instances  The instances  are listed in comma separated format  with a question mark  representing a missing value    Comments are lines starting with   and are ignored by Weka                                                                              Using Weka from the command line                                        If you want to use Weka from your standard command line interface  e g  bash under Linux    a  Set WEKAINSTALL to be the directory which contains this README  b  Add  WEKAINSTALL weka jar to your CLASSPATH environment variable  c  Bookmark  WEKAINSTALL doc packages html in your web browser   Alternatively you can try using the SimpleCLI user interface available from the GUI chooser discussed above   In the following  the names of files assume use of a unix command line with environment variables  For other command lines  including SimpleCLI  you should substitute the name of the directory where weka jar lives for  WEKAINSTALL  If your platform uses something other character than   as the path separator  also make the appropriate substitutions               Classifiers              Try   java weka classifiers trees J    t  WEKAINSTALL data iris arff  This prints out a decision tree classifier for the iris dataset  and ten fold cross validation estimates of its performance  If you don't pass any options to the classifier  WEKA will list all the  available options  Try   java weka classifiers trees J    The options are divided into  general  options that apply to most classification schemes in WEKA  and scheme specific options that only apply to the current scheme   in this case J    WEKA has a common interface to all classification methods  Any class that implements a classifier can be used in the same way as J   is used above  WEKA knows that a class implements a classifier if it extends the Classifier class in weka classifiers  Almost all classes in weka classifiers fall into this category  Try  for example   java weka classifiers bayes NaiveBayes  t  WEKAINSTALL data labor arff  Here is a list of some of the classifiers currently implemented in weka classifiers   a  Classifiers for categorical prediction   weka classifiers lazy IBk  k nearest neighbour learner weka classifiers trees J    C    decision trees  weka classifiers rules PART  rule learner  weka classifiers bayes NaiveBayes  naive Bayes with without kernels weka classifiers rules OneR  Holte's OneR weka classifiers functions SMO  support vector machines weka classifiers functions Logistic  logistic regression weka classifiers meta AdaBoostM   AdaBoost weka classifiers meta LogitBoost  logit boost weka classifiers trees DecisionStump  decision stumps  for boosting  etc   b  Classifiers for numeric prediction   weka classifiers functions LinearRegression  linear regression weka classifiers trees M P  model trees weka classifiers rules M Rules  model rules weka classifiers lazy IBk  k nearest neighbour learner weka classifiers lazy LWL  locally weighted learning                    Association rules                    Next to classification schemes  there is some other useful stuff in  WEKA  Association rules  for example  can be extracted using the  Apriori algorithm  Try  java weka associations Apriori  t  WEKAINSTALL data weather nominal arff          Filters          There are also a number of tools that allow you to manipulate a dataset  These tools are called filters in WEKA and can be found in weka filters   weka filters unsupervised attribute Discretize  discretizes numeric data weka filters unsupervised attribute Remove  deletes selects attributes etc   Try   java weka filters supervised attribute Discretize  i    WEKAINSTALL data iris arff  c last                                                                             Database access                       In terms of database connectivity  you should be able to use any database with a Java JDBC driver  When using classes that access a database  e g  the Explorer   you will probably want to create a properties file that specifies which JDBC drivers to use  where to find the database  and specify a mapping for the data types  This file should reside in your home directory or the current directory and be called  DatabaseUtils props   An example is provided in weka experiment  you need to expand weka jar to be able to look a this file   Note that the settings in this file are used unless they are overidden by settings in the DatabaseUtils props file in your home directory or the current directory  in that order    There are also example DatabaseUtils props files for several common databases available  also in weka experiment      HSQLDB  DatabaseUtils props hsql   MS SQL Server       DatabaseUtils props mssqlserver   MS SQL Server      Express Edition  DatabaseUtils props mssqlserver       MySQL  DatabaseUtils props mysql   ODBC  DatabaseUtils props odbc   Oracle  DatabaseUtils props oracle   PostgreSQL  DatabaseUtils props postgresql                                                                             The Experiment package                                             There is support for running experiments that involve evaluating classifiers on repeated randomizations of datasets  over multiple datasets  you can do much more than this  besides   The classes for this reside in the weka experiment package  The basic architecture is that a ResultProducer  which generates results on some randomization of a dataset  sends results to a ResultListener  which is responsible for stating whether it already has the result  and otherwise storing results    Example ResultListeners include   weka experiment CSVResultListener  outputs results as comma separated value files  weka experiment InstancesResultListener  converts results into a set of Instances  weka experiment DatabaseResultListener  sends results to a database via JDBC    Example ResultProducers include   weka experiment RandomSplitResultProducer  train test on a   split weka experiment CrossValidationResultProducer  n fold cross validation weka experiment AveragingResultProducer  averages results from another ResultPoducer  weka experiment DatabaseResultProducer  acts as a cache for results  storing them in a database   The RandomSplitResultProducer and CrossValidationResultProducer make use of a SplitEvaluator to obtain actual results for a particular split  provided are ClassifierSplitEvaluator  for nominal classification  and RegressionSplitEvaluator  for numeric classification   Each of these uses a Classifier for actual results generation    So  you might have a DatabaseResultListener  that is sent results from an AveragingResultProducer  which produces averages over the n results produced for each run of an n fold CrossValidationResultProducer  which in turn is doing nominal classification through a ClassifierSplitEvaluator  which uses OneR for prediction  Whew  But you can combine these things together to do pretty much whatever you want  You might want to write a LearningRateResultProducer that splits a dataset into increasing numbers of training instances   To run a simple experiment from the command line  try   java weka experiment Experiment  r  T datasets UCI iris arff  \\\\    D weka experiment InstancesResultListener \\\\    P weka experiment RandomSplitResultProducer    \\\\    W weka experiment ClassifierSplitEvaluator    \\\\    W weka classifiers rules OneR   Try  java weka experiment Experiment  h  to find out what these options mean   If you have your results as a set of instances  you can perform paired t tests using weka experiment PairedTTester  use the  h option to find out what options it needs    However  all this is much easier if you use the Experimenter GUI                                                                              Weka Manual                      A comprehensive manual covering Weka's graphical and command line user interfaces   WEKAINSTALL WekaManual pdf                                                                             Source code                   The source code for WEKA is in  WEKAINSTALL weka src jar  To expand it   use the jar utility that's in every Java distribution  or any file  archiver that can handle ZIP files                                                                               Credits                Refer to the web page for a list of contributors   http   www cs waikato ac nz ~ml weka                                                                               Call for code and bug reports                                     If you have implemented a learning scheme  filter  application  visualization tool  etc   using the WEKA classes  and you would like to make it available to the community  then create a Weka  package  and submit your package's  Description props  file to us  We will check the package to make sure that it works as advertised and doesn't contain any  nasties  and then add your Description props to the central package meta data repository hosted on Sourceforge  Hosting downloadable packages is the responsibility of the contributer   The conditions for new classifiers  schemes in general  are that  firstly  they have to be published in the proceedings of a renowned conference  e g   ICML  or as an article of respected journal  e g   Machine Learning  and  secondly  that they outperform other standard schemes  e g   J   C       More information on contributing to Weka and how to create a Weka package can be found in the Weka manual   WEKAINSTALL WekaManual pdf    If you find any bugs  send a bug report to the wekalist mailing list      For core Weka components  i e  everything in the main weka jar file  not including packages   send a bug report to the wekalist mailing list      For packages  check the package description  either online at Sourceforge or by using the package management system  and contact the maintainer of the package directly                                                                                Copyright                  The core WEKA system is distributed under the GNU public license  Please read the file COPYING   Packages may be distributed under various licenses   check the description of the package in question for license details                                                                              Revision         \""
      ]
     },
     "execution_count": 4,
     "metadata": {},
     "output_type": "execute_result"
    }
   ],
   "source": [
    "temp_1"
   ]
  },
  {
   "cell_type": "code",
   "execution_count": 5,
   "metadata": {
    "collapsed": true
   },
   "outputs": [],
   "source": [
    "#Removing stop words\n",
    "from nltk.corpus import stopwords"
   ]
  },
  {
   "cell_type": "code",
   "execution_count": 6,
   "metadata": {
    "collapsed": true
   },
   "outputs": [],
   "source": [
    "tokens = word_tokenize(temp_1)"
   ]
  },
  {
   "cell_type": "code",
   "execution_count": 7,
   "metadata": {
    "collapsed": true
   },
   "outputs": [],
   "source": [
    "# making the tokens all into lower case\n",
    "token_lower = [token.lower() for token in tokens]"
   ]
  },
  {
   "cell_type": "code",
   "execution_count": 8,
   "metadata": {
    "collapsed": true
   },
   "outputs": [],
   "source": [
    "stop_words = set(stopwords.words('english'))"
   ]
  },
  {
   "cell_type": "code",
   "execution_count": 9,
   "metadata": {
    "collapsed": true
   },
   "outputs": [],
   "source": [
    "temp_2 = []\n",
    "for w in token_lower:\n",
    "    if w not in stop_words:\n",
    "        temp_2.append(w)"
   ]
  },
  {
   "cell_type": "code",
   "execution_count": 10,
   "metadata": {
    "collapsed": true
   },
   "outputs": [],
   "source": [
    "# For Stemming\n",
    "from nltk.stem.porter import PorterStemmer"
   ]
  },
  {
   "cell_type": "code",
   "execution_count": 11,
   "metadata": {
    "collapsed": true
   },
   "outputs": [],
   "source": [
    "st = PorterStemmer()"
   ]
  },
  {
   "cell_type": "code",
   "execution_count": 12,
   "metadata": {},
   "outputs": [],
   "source": [
    "temp_3 = [st.stem(word) for word in temp_2]"
   ]
  },
  {
   "cell_type": "code",
   "execution_count": 16,
   "metadata": {},
   "outputs": [
    {
     "name": "stdout",
     "output_type": "stream",
     "text": [
      "['readm', 'weka', 'dec', 'java', 'program', 'machin', 'learn', 'copyright', 'c', 'univers', 'waikato', 'web', 'http', 'www', 'cs', 'waikato', 'ac', 'nz', '~ml', 'weka', 'content', 'use', 'one', 'graphic', 'user', 'interfac', 'weka', 'weka', 'packag', 'packag', 'manag', 'weka', 'data', 'format', 'arff', 'use', 'weka', 'command', 'line', 'classifi', 'associ', 'rule', 'filter', 'databas', 'access', 'experi', 'packag', 'weka', 'manual', 'sourc', 'code', 'credit', 'submiss', 'code', 'bug', 'report', 'copyright', 'use', 'one', 'graphic', 'user', 'interfac', 'weka', 'assum', 'weka', 'archiv', 'download', 'extract', 'directori', 'contain', 'readm', \"n't\", 'use', 'automat', 'instal', 'e', 'g', 'one', 'provid', 'window', 'weka', 'requir', 'java', 'higher', 'depend', 'platform', 'may', 'abl', 'doubl', 'click', 'weka', 'jar', 'icon', 'run', 'graphic', 'user', 'interfac', 'weka', 'otherwis', 'command', 'line', 'assum', 'directori', 'contain', 'weka', 'jar', 'type', 'java', 'jar', 'weka', 'jar', 'use', 'window', 'use', 'javaw', 'jar', 'weka', 'jar', 'note', 'use', 'jar', 'overrid', 'classpath', 'variabl', 'need', 'use', 'class', 'specifi', 'classpath', 'use', 'follow', 'command', 'instead', 'java', 'classpath', 'classpath', 'weka', 'jar', 'weka', 'gui', 'guichoos', 'use', 'window', 'use', 'javaw', 'classpath', 'classpath', 'weka', 'jar', 'weka', 'gui', 'guichoos', 'start', 'graphic', 'user', 'interfac', 'weka', 'gui', 'guichoos', 'select', 'variou', 'interfac', 'like', 'simplecli', 'interfac', 'sophist', 'explor', 'experiment', 'knowledg', 'flow', 'interfac', 'simplecli', 'act', 'like', 'simpl', 'command', 'shell', 'explor', 'current', 'main', 'interfac', 'data', 'analysi', 'use', 'weka', 'experiment', 'use', 'compar', 'perform', 'differ', 'learn', 'algorithm', 'across', 'variou', 'dataset', 'knowledg', 'flow', 'provid', 'compon', 'base', 'altern', 'explor', 'interfac', 'exampl', 'dataset', 'use', 'weka', 'sub', 'directori', 'call', 'data', 'locat', 'directori', 'readm', 'file', 'weka', 'user', 'interfac', 'provid', 'extens', 'built', 'help', 'facil', 'tool', 'tip', 'etc', 'document', 'explor', 'found', 'explorerguid', 'pdf', 'also', 'directori', 'readm', 'also', 'start', 'gui', 'main', 'class', 'within', 'weka', 'jar', 'java', 'classpath', 'weka', 'jar', 'classpath', 'weka', 'gui', 'main', 'use', 'window', 'use', 'javaw', 'classpath', 'weka', 'jar', 'classpath', 'weka', 'gui', 'main', 'weka', 'packag', 'packag', 'manag', 'weka', 'mani', 'weka', 'algorithm', 'tool', 'extract', 'main', 'weka', 'distribut', 'encapsul', 'separ', 'download', 'packag', 'obtain', 'weka', 'project', 'sourceforg', 'instal', 'manual', 'weka', \"'s\", 'new', 'built', 'packag', 'manag', 'use', 'take', 'care', 'instal', 'remov', 'packag', 'command', 'line', 'gui', 'packag', 'manag', 'use', 'brows', 'instal', 'packag', 'packag', 'manag', 'take', 'care', 'resolv', 'depend', 'check', 'conflict', 'gui', 'packag', 'manag', 'found', 'tool', 'menu', 'guichoos', 'detail', 'inform', 'use', 'packag', 'manag', 'system', 'found', 'weka', 'manual', 'wekainstal', 'wekamanu', 'pdf', 'weka', 'data', 'format', 'arff', 'dataset', 'weka', 'format', 'accord', 'arff', 'format', 'howev', 'sever', 'convert', 'includ', 'weka', 'convert', 'file', 'format', 'arff', 'weka', 'explor', 'use', 'automat', \"n't\", 'recogn', 'given', 'file', 'arff', 'file', 'exampl', 'arff', 'file', 'found', 'data', 'subdirectori', 'follow', 'short', 'descript', 'file', 'format', 'complet', 'descript', 'avail', 'weka', 'web', 'page', 'dataset', 'start', 'declar', 'name', 'relat', 'name', 'follow', 'list', 'attribut', 'dataset', 'includ', 'class', 'attribut', 'declar', 'form', 'attribut', 'attribute_nam', 'specif', 'attribut', 'nomin', 'specif', 'contain', 'list', 'possibl', 'attribut', 'valu', 'curli', 'bracket', 'attribut', 'nominal_attribut', '{', 'first_valu', 'second_valu', 'third_valu', '}', 'attribut', 'numer', 'specif', 'replac', 'keyword', 'numer', 'integ', 'valu', 'treat', 'real', 'number', 'weka', 'attribut', 'numeric_attribut', 'numer', 'addit', 'two', 'type', 'attribut', 'also', 'exist', 'string', 'attribut', 'type', 'attribut', 'provid', 'possibl', 'store', 'comment', 'id', 'field', 'instanc', 'dataset', 'attribut', 'string_attribut', 'string', 'attribut', 'declar', 'actual', 'data', 'introduc', 'data', 'tag', 'follow', 'list', 'instanc', 'instanc', 'list', 'comma', 'separ', 'format', 'question', 'mark', 'repres', 'miss', 'valu', 'comment', 'line', 'start', 'ignor', 'weka', 'use', 'weka', 'command', 'line', 'want', 'use', 'weka', 'standard', 'command', 'line', 'interfac', 'e', 'g', 'bash', 'linux', 'set', 'wekainstal', 'directori', 'contain', 'readm', 'b', 'add', 'wekainstal', 'weka', 'jar', 'classpath', 'environ', 'variabl', 'c', 'bookmark', 'wekainstal', 'doc', 'packag', 'html', 'web', 'browser', 'altern', 'tri', 'use', 'simplecli', 'user', 'interfac', 'avail', 'gui', 'chooser', 'discuss', 'follow', 'name', 'file', 'assum', 'use', 'unix', 'command', 'line', 'environ', 'variabl', 'command', 'line', 'includ', 'simplecli', 'substitut', 'name', 'directori', 'weka', 'jar', 'live', 'wekainstal', 'platform', 'use', 'someth', 'charact', 'path', 'separ', 'also', 'make', 'appropri', 'substitut', 'classifi', 'tri', 'java', 'weka', 'classifi', 'tree', 'j', 'wekainstal', 'data', 'iri', 'arff', 'print', 'decis', 'tree', 'classifi', 'iri', 'dataset', 'ten', 'fold', 'cross', 'valid', 'estim', 'perform', \"n't\", 'pass', 'option', 'classifi', 'weka', 'list', 'avail', 'option', 'tri', 'java', 'weka', 'classifi', 'tree', 'j', 'option', 'divid', 'gener', 'option', 'appli', 'classif', 'scheme', 'weka', 'scheme', 'specif', 'option', 'appli', 'current', 'scheme', 'case', 'j', 'weka', 'common', 'interfac', 'classif', 'method', 'class', 'implement', 'classifi', 'use', 'way', 'j', 'use', 'weka', 'know', 'class', 'implement', 'classifi', 'extend', 'classifi', 'class', 'weka', 'classifi', 'almost', 'class', 'weka', 'classifi', 'fall', 'categori', 'tri', 'exampl', 'java', 'weka', 'classifi', 'bay', 'naivebay', 'wekainstal', 'data', 'labor', 'arff', 'list', 'classifi', 'current', 'implement', 'weka', 'classifi', 'classifi', 'categor', 'predict', 'weka', 'classifi', 'lazi', 'ibk', 'k', 'nearest', 'neighbour', 'learner', 'weka', 'classifi', 'tree', 'j', 'c', 'decis', 'tree', 'weka', 'classifi', 'rule', 'part', 'rule', 'learner', 'weka', 'classifi', 'bay', 'naivebay', 'naiv', 'bay', 'without', 'kernel', 'weka', 'classifi', 'rule', 'oner', 'holt', \"'s\", 'oner', 'weka', 'classifi', 'function', 'smo', 'support', 'vector', 'machin', 'weka', 'classifi', 'function', 'logist', 'logist', 'regress', 'weka', 'classifi', 'meta', 'adaboostm', 'adaboost', 'weka', 'classifi', 'meta', 'logitboost', 'logit', 'boost', 'weka', 'classifi', 'tree', 'decisionstump', 'decis', 'stump', 'boost', 'etc', 'b', 'classifi', 'numer', 'predict', 'weka', 'classifi', 'function', 'linearregress', 'linear', 'regress', 'weka', 'classifi', 'tree', 'p', 'model', 'tree', 'weka', 'classifi', 'rule', 'rule', 'model', 'rule', 'weka', 'classifi', 'lazi', 'ibk', 'k', 'nearest', 'neighbour', 'learner', 'weka', 'classifi', 'lazi', 'lwl', 'local', 'weight', 'learn', 'associ', 'rule', 'next', 'classif', 'scheme', 'use', 'stuff', 'weka', 'associ', 'rule', 'exampl', 'extract', 'use', 'apriori', 'algorithm', 'tri', 'java', 'weka', 'associ', 'apriori', 'wekainstal', 'data', 'weather', 'nomin', 'arff', 'filter', 'also', 'number', 'tool', 'allow', 'manipul', 'dataset', 'tool', 'call', 'filter', 'weka', 'found', 'weka', 'filter', 'weka', 'filter', 'unsupervis', 'attribut', 'discret', 'discret', 'numer', 'data', 'weka', 'filter', 'unsupervis', 'attribut', 'remov', 'delet', 'select', 'attribut', 'etc', 'tri', 'java', 'weka', 'filter', 'supervis', 'attribut', 'discret', 'wekainstal', 'data', 'iri', 'arff', 'c', 'last', 'databas', 'access', 'term', 'databas', 'connect', 'abl', 'use', 'databas', 'java', 'jdbc', 'driver', 'use', 'class', 'access', 'databas', 'e', 'g', 'explor', 'probabl', 'want', 'creat', 'properti', 'file', 'specifi', 'jdbc', 'driver', 'use', 'find', 'databas', 'specifi', 'map', 'data', 'type', 'file', 'resid', 'home', 'directori', 'current', 'directori', 'call', 'databaseutil', 'prop', 'exampl', 'provid', 'weka', 'experi', 'need', 'expand', 'weka', 'jar', 'abl', 'look', 'file', 'note', 'set', 'file', 'use', 'unless', 'overidden', 'set', 'databaseutil', 'prop', 'file', 'home', 'directori', 'current', 'directori', 'order', 'also', 'exampl', 'databaseutil', 'prop', 'file', 'sever', 'common', 'databas', 'avail', 'also', 'weka', 'experi', 'hsqldb', 'databaseutil', 'prop', 'hsql', 'ms', 'sql', 'server', 'databaseutil', 'prop', 'mssqlserver', 'ms', 'sql', 'server', 'express', 'edit', 'databaseutil', 'prop', 'mssqlserver', 'mysql', 'databaseutil', 'prop', 'mysql', 'odbc', 'databaseutil', 'prop', 'odbc', 'oracl', 'databaseutil', 'prop', 'oracl', 'postgresql', 'databaseutil', 'prop', 'postgresql', 'experi', 'packag', 'support', 'run', 'experi', 'involv', 'evalu', 'classifi', 'repeat', 'random', 'dataset', 'multipl', 'dataset', 'much', 'besid', 'class', 'resid', 'weka', 'experi', 'packag', 'basic', 'architectur', 'resultproduc', 'gener', 'result', 'random', 'dataset', 'send', 'result', 'resultlisten', 'respons', 'state', 'whether', 'alreadi', 'result', 'otherwis', 'store', 'result', 'exampl', 'resultlisten', 'includ', 'weka', 'experi', 'csvresultlisten', 'output', 'result', 'comma', 'separ', 'valu', 'file', 'weka', 'experi', 'instancesresultlisten', 'convert', 'result', 'set', 'instanc', 'weka', 'experi', 'databaseresultlisten', 'send', 'result', 'databas', 'via', 'jdbc', 'exampl', 'resultproduc', 'includ', 'weka', 'experi', 'randomsplitresultproduc', 'train', 'test', 'split', 'weka', 'experi', 'crossvalidationresultproduc', 'n', 'fold', 'cross', 'valid', 'weka', 'experi', 'averagingresultproduc', 'averag', 'result', 'anoth', 'resultpoduc', 'weka', 'experi', 'databaseresultproduc', 'act', 'cach', 'result', 'store', 'databas', 'randomsplitresultproduc', 'crossvalidationresultproduc', 'make', 'use', 'splitevalu', 'obtain', 'actual', 'result', 'particular', 'split', 'provid', 'classifiersplitevalu', 'nomin', 'classif', 'regressionsplitevalu', 'numer', 'classif', 'use', 'classifi', 'actual', 'result', 'gener', 'might', 'databaseresultlisten', 'sent', 'result', 'averagingresultproduc', 'produc', 'averag', 'n', 'result', 'produc', 'run', 'n', 'fold', 'crossvalidationresultproduc', 'turn', 'nomin', 'classif', 'classifiersplitevalu', 'use', 'oner', 'predict', 'whew', 'combin', 'thing', 'togeth', 'pretti', 'much', 'whatev', 'want', 'might', 'want', 'write', 'learningrateresultproduc', 'split', 'dataset', 'increas', 'number', 'train', 'instanc', 'run', 'simpl', 'experi', 'command', 'line', 'tri', 'java', 'weka', 'experi', 'experi', 'r', 'dataset', 'uci', 'iri', 'arff', '\\\\', 'weka', 'experi', 'instancesresultlisten', '\\\\', 'p', 'weka', 'experi', 'randomsplitresultproduc', '\\\\', 'w', 'weka', 'experi', 'classifiersplitevalu', '\\\\', 'w', 'weka', 'classifi', 'rule', 'oner', 'tri', 'java', 'weka', 'experi', 'experi', 'h', 'find', 'option', 'mean', 'result', 'set', 'instanc', 'perform', 'pair', 'test', 'use', 'weka', 'experi', 'pairedttest', 'use', 'h', 'option', 'find', 'option', 'need', 'howev', 'much', 'easier', 'use', 'experiment', 'gui', 'weka', 'manual', 'comprehens', 'manual', 'cover', 'weka', \"'s\", 'graphic', 'command', 'line', 'user', 'interfac', 'wekainstal', 'wekamanu', 'pdf', 'sourc', 'code', 'sourc', 'code', 'weka', 'wekainstal', 'weka', 'src', 'jar', 'expand', 'use', 'jar', 'util', \"'s\", 'everi', 'java', 'distribut', 'file', 'archiv', 'handl', 'zip', 'file', 'credit', 'refer', 'web', 'page', 'list', 'contributor', 'http', 'www', 'cs', 'waikato', 'ac', 'nz', '~ml', 'weka', 'call', 'code', 'bug', 'report', 'implement', 'learn', 'scheme', 'filter', 'applic', 'visual', 'tool', 'etc', 'use', 'weka', 'class', 'would', 'like', 'make', 'avail', 'commun', 'creat', 'weka', 'packag', 'submit', 'packag', \"'s\", 'descript', 'prop', 'file', 'us', 'check', 'packag', 'make', 'sure', 'work', 'advertis', \"n't\", 'contain', 'nasti', 'add', 'descript', 'prop', 'central', 'packag', 'meta', 'data', 'repositori', 'host', 'sourceforg', 'host', 'download', 'packag', 'respons', 'contribut', 'condit', 'new', 'classifi', 'scheme', 'gener', 'firstli', 'publish', 'proceed', 'renown', 'confer', 'e', 'g', 'icml', 'articl', 'respect', 'journal', 'e', 'g', 'machin', 'learn', 'secondli', 'outperform', 'standard', 'scheme', 'e', 'g', 'j', 'c', 'inform', 'contribut', 'weka', 'creat', 'weka', 'packag', 'found', 'weka', 'manual', 'wekainstal', 'wekamanu', 'pdf', 'find', 'bug', 'send', 'bug', 'report', 'wekalist', 'mail', 'list', 'core', 'weka', 'compon', 'e', 'everyth', 'main', 'weka', 'jar', 'file', 'includ', 'packag', 'send', 'bug', 'report', 'wekalist', 'mail', 'list', 'packag', 'check', 'packag', 'descript', 'either', 'onlin', 'sourceforg', 'use', 'packag', 'manag', 'system', 'contact', 'maintain', 'packag', 'directli', 'copyright', 'core', 'weka', 'system', 'distribut', 'gnu', 'public', 'licens', 'pleas', 'read', 'file', 'copi', 'packag', 'may', 'distribut', 'variou', 'licens', 'check', 'descript', 'packag', 'question', 'licens', 'detail', 'revis']\n"
     ]
    }
   ],
   "source": [
    "print(temp_3,)"
   ]
  }
 ],
 "metadata": {
  "kernelspec": {
   "display_name": "Python 3",
   "language": "python",
   "name": "python3"
  },
  "language_info": {
   "codemirror_mode": {
    "name": "ipython",
    "version": 3
   },
   "file_extension": ".py",
   "mimetype": "text/x-python",
   "name": "python",
   "nbconvert_exporter": "python",
   "pygments_lexer": "ipython3",
   "version": "3.6.3"
  }
 },
 "nbformat": 4,
 "nbformat_minor": 2
}
